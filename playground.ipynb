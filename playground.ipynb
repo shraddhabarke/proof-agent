{
 "cells": [
  {
   "cell_type": "code",
   "execution_count": 2,
   "metadata": {},
   "outputs": [
    {
     "name": "stderr",
     "output_type": "stream",
     "text": [
      "c:\\Users\\sfakhoury\\AppData\\Local\\miniconda3\\envs\\autogen\\Lib\\site-packages\\tqdm\\auto.py:21: TqdmWarning: IProgress not found. Please update jupyter and ipywidgets. See https://ipywidgets.readthedocs.io/en/stable/user_install.html\n",
      "  from .autonotebook import tqdm as notebook_tqdm\n",
      "Generating train split: 100%|██████████| 22779/22779 [00:05<00:00, 4459.13 examples/s]\n",
      "Generating validation split: 100%|██████████| 1541/1541 [00:00<00:00, 2343.11 examples/s]\n",
      "Generating test split: 100%|██████████| 7734/7734 [00:01<00:00, 4386.47 examples/s]\n",
      "Filter: 100%|██████████| 7734/7734 [00:03<00:00, 2423.64 examples/s]\n",
      "Filter: 100%|██████████| 7734/7734 [00:03<00:00, 2446.93 examples/s]\n"
     ]
    }
   ],
   "source": [
    "from datasets import load_dataset\n",
    "\n",
    "data = load_dataset(\"microsoft/FStarDataSet\")\n",
    "train_data = data[\"train\"]\n",
    "eval_data = data[\"validation\"]\n",
    "test_data = data[\"test\"]\n",
    "\n",
    "intra_project_test = test_data.filter(lambda x: x[\"isa_cross_project_example\"] == False)\n",
    "cross_project_test = test_data.filter(lambda x: x[\"isa_cross_project_example\"] == True)\n"
   ]
  },
  {
   "cell_type": "code",
   "execution_count": 9,
   "metadata": {},
   "outputs": [
    {
     "data": {
      "text/plain": [
       "['effect',\n",
       " 'original_source_type',\n",
       " 'opens_and_abbrevs',\n",
       " 'isa_cross_project_example',\n",
       " 'source_definition',\n",
       " 'partial_definition',\n",
       " 'is_div',\n",
       " 'is_type',\n",
       " 'is_proof',\n",
       " 'completed_definiton',\n",
       " 'dependencies',\n",
       " 'effect_flags',\n",
       " 'ideal_premises',\n",
       " 'mutual_with',\n",
       " 'file_context',\n",
       " 'interleaved',\n",
       " 'is_simply_typed',\n",
       " 'file_name',\n",
       " 'vconfig',\n",
       " 'is_simple_lemma',\n",
       " 'source_type',\n",
       " 'proof_features',\n",
       " 'name',\n",
       " 'source',\n",
       " 'verbose_type',\n",
       " 'source_range']"
      ]
     },
     "execution_count": 9,
     "metadata": {},
     "output_type": "execute_result"
    }
   ],
   "source": [
    "#list columns\n",
    "cross_project_test.column_names"
   ]
  },
  {
   "cell_type": "code",
   "execution_count": 27,
   "metadata": {},
   "outputs": [
    {
     "name": "stdout",
     "output_type": "stream",
     "text": [
      "let rec big_endian (b:bytes) : Tot (n:nat) (decreases (Seq.length b)) = \n",
      "  if Seq.length b = 0 then 0 \n",
      "  else\n",
      "    UInt8.v (last b) + pow2 8 * big_endian (Seq.slice b 0 (Seq.length b - 1))\n"
     ]
    }
   ],
   "source": [
    "print(cross_project_test[\"source_definition\"][4])"
   ]
  },
  {
   "cell_type": "code",
   "execution_count": null,
   "metadata": {},
   "outputs": [],
   "source": []
  }
 ],
 "metadata": {
  "kernelspec": {
   "display_name": "autogen",
   "language": "python",
   "name": "python3"
  },
  "language_info": {
   "codemirror_mode": {
    "name": "ipython",
    "version": 3
   },
   "file_extension": ".py",
   "mimetype": "text/x-python",
   "name": "python",
   "nbconvert_exporter": "python",
   "pygments_lexer": "ipython3",
   "version": "3.12.9"
  }
 },
 "nbformat": 4,
 "nbformat_minor": 2
}
